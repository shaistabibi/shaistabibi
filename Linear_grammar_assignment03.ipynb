{
  "nbformat": 4,
  "nbformat_minor": 0,
  "metadata": {
    "colab": {
      "provenance": []
    },
    "kernelspec": {
      "name": "python3",
      "display_name": "Python 3"
    },
    "language_info": {
      "name": "python"
    }
  },
  "cells": [
    {
      "cell_type": "markdown",
      "source": [
        "\n",
        "\n",
        "*   **shaista bibi**\n",
        "*   **BSAI_016**\n",
        "\n"
      ],
      "metadata": {
        "id": "p3Sp-7sj_qas"
      }
    },
    {
      "cell_type": "code",
      "source": [
        "#linear grammar\n",
        "s-->aA\n",
        "A-->aA|bbB\n",
        "B-->bC\n",
        "C-->S"
      ],
      "metadata": {
        "id": "Eu3k-68KNZIB"
      },
      "execution_count": null,
      "outputs": []
    },
    {
      "cell_type": "markdown",
      "source": [
        "#**1st method for linear grammar implementation**"
      ],
      "metadata": {
        "id": "jefRkiFO_g4a"
      }
    },
    {
      "cell_type": "code",
      "source": [
        "class linear_grammar(object):\n",
        "      #initialize all variable when calling the class DFA\n",
        "    def __init__(self, non_terminal,terminal ,lenguage, start_non_terminal,final_non_terminal):\n",
        "        self.non_terminal = non_terminal;\n",
        "        self.terminal = terminal;\n",
        "        self.lenguage = lenguage;\n",
        "        self.start_non_terminal = start_non_terminal;\n",
        "        self.final_non_terminal = final_non_terminal;\n",
        "        return;\n",
        "    def accept_state(self,string):\n",
        "      non_terminal ='S'\n",
        "      for i in string:\n",
        "        if non_terminal=='S':\n",
        "          if i=='a':\n",
        "            non_terminal='A'\n",
        "          else:\n",
        "            return False\n",
        "        elif non_terminal=='A':\n",
        "          if i=='a':\n",
        "            non_terminal='A'\n",
        "          elif i=='b':\n",
        "            non_terminal='E'\n",
        "          else:\n",
        "            return False\n",
        "        elif non_terminal=='E':\n",
        "          if i=='b':\n",
        "            non_terminal='B'\n",
        "          else:\n",
        "            return False\n",
        "        elif non_terminal=='B':\n",
        "           if i=='b':\n",
        "             non_terminal='C'\n",
        "           else:\n",
        "             return False\n",
        "        elif non_terminal=='C':\n",
        "           if i=='e':\n",
        "             non_terminal='S'\n",
        "             return True\n",
        "           elif non_terminal == final_non_terminal:\n",
        "               return True\n",
        "           else:\n",
        "             return False\n",
        "        else:\n",
        "             return False\n",
        "        \n",
        "linear_gram =linear_grammar(\n",
        "non_terminal=['S','A','E','B','C'],\n",
        "terminal=['a','b','e'],\n",
        "start_non_terminal='S',\n",
        "final_non_terminal=['S'],\n",
        "lenguage={'S':'aA','A':'aA','A':'bE','E':'bB','B':'bC','C':'e'}\n",
        ")\n",
        "if __name__ == \"__main__\" :\n",
        "  string={0:'aabbbe',\n",
        "          1:'aaaabbbe',\n",
        "          2:'aaaaebbb'}\n",
        "  for j in string:\n",
        "    if(linear_gram.accept_state(string[j])):\n",
        "        print(string[j],\"->\",\"This String  is ACCEPTED.\")\n",
        "    else:  \n",
        "        print(string[j],\"->\",\"This String is INVALID.\")"
      ],
      "metadata": {
        "colab": {
          "base_uri": "https://localhost:8080/",
          "height": 0
        },
        "id": "kIzE0aGL8N9A",
        "outputId": "a1a12f36-1421-4b63-9c0f-c5c1205b8659"
      },
      "execution_count": 13,
      "outputs": [
        {
          "output_type": "stream",
          "name": "stdout",
          "text": [
            "aabbbe -> This String  is ACCEPTED.\n",
            "aaaabbbe -> This String  is ACCEPTED.\n",
            "aaaaebbb -> This String is INVALID.\n"
          ]
        }
      ]
    },
    {
      "cell_type": "markdown",
      "source": [
        "#**2nd method for linear grammar implementation**"
      ],
      "metadata": {
        "id": "WyrlJcNs_OW8"
      }
    },
    {
      "cell_type": "code",
      "source": [
        "class linear_grammar(object):\n",
        "      #initialize all variable when calling the class DFA\n",
        "    def __init__(self, non_terminal,terminal ,lenguage, start_non_terminal,final_non_terminal):\n",
        "        self.non_terminal = non_terminal;\n",
        "        self.terminal = terminal;\n",
        "        self.lenguage = lenguage;\n",
        "        self.start_non_terminal = start_non_terminal;\n",
        "        self.final_non_terminal = final_non_terminal;\n",
        "        return;\n",
        "    def state_S(self,terminal,string):\n",
        "      for terminal in terminal:\n",
        "        if (terminal == 'a'):\n",
        "         state = state_A(self,terminal,string)\n",
        "         return state\n",
        "        else:\n",
        "         return False\n",
        "    def state_A(self,terminal,string):\n",
        "      for terminal in terminal:\n",
        "       if (terminal == 'a'):\n",
        "         state = state_A(self,terminal,string)\n",
        "         return state\n",
        "       elif (terminal == 'b'):  \n",
        "          state = state_empty(self,terminal,string)\n",
        "          return state\n",
        "      else:\n",
        "          return False\n",
        "    def state_empty(self,terminal,string):\n",
        "      for terminal in terminal:\n",
        "          if (terminal == 'b'):  \n",
        "             state = state_B(self,terminal,string)\n",
        "             return state\n",
        "          else:\n",
        "             return False\n",
        "    def state_B(self,terminal,string):\n",
        "      for terminal in terminal:\n",
        "           if (terminal == 'b'):  \n",
        "              state = state_C(self,terminal,string)\n",
        "              return state\n",
        "           else:\n",
        "              return False    \n",
        "\n",
        "    def state_C(self,terminal,string):\n",
        "      for terminal in terminal:\n",
        "            if (terminal == 'e'):\n",
        "              state =state_S(self) \n",
        "              return True\n",
        "            else:\n",
        "               return False    \n",
        "    def accept_string(self,string):\n",
        "      non_terminal ='S'\n",
        "      for i in string:\n",
        "        if non_terminal=='S':\n",
        "          if i=='a':\n",
        "            non_terminal='A'\n",
        "          else:\n",
        "            return False\n",
        "        elif non_terminal=='A':\n",
        "          if i=='a':\n",
        "            non_terminal='A'\n",
        "          elif i=='b':\n",
        "            non_terminal='E'\n",
        "          else:\n",
        "            return False\n",
        "        elif non_terminal=='E':\n",
        "          if i=='b':\n",
        "            non_terminal='B'\n",
        "          else:\n",
        "            return False\n",
        "        elif non_terminal=='B':\n",
        "           if i=='b':\n",
        "             non_terminal='C'\n",
        "           else:\n",
        "             return False\n",
        "        elif non_terminal=='C':\n",
        "           if i=='e':\n",
        "             non_terminal='S'\n",
        "             return True\n",
        "           elif non_terminal == final_non_terminal:\n",
        "               return True\n",
        "           else:\n",
        "             return False\n",
        "        else:\n",
        "             return False\n",
        "    \n",
        "linear_gram =linear_grammar(\n",
        "non_terminal=['S','A','E','B','C'],\n",
        "terminal=['a','b','e'],\n",
        "start_non_terminal='S',\n",
        "final_non_terminal=['S'],\n",
        "lenguage={'S':'aA','A':'aA','A':'bE','E':'bB','B':'bC','C':'eS'}\n",
        ")\n",
        "if __name__ == \"__main__\" :\n",
        "  string={0:'aabbbe',\n",
        "          1:'aaaaebbb'\n",
        "          }\n",
        "  for j in string:\n",
        "    if(linear_gram.accept_string(string[j])):\n",
        "        print(string[j],\"->\",\"This string is ACCEPTED\")\n",
        "    else:  \n",
        "        print(string[j],\"->\",\" Ths string is INVALID\")    \n"
      ],
      "metadata": {
        "colab": {
          "base_uri": "https://localhost:8080/",
          "height": 0
        },
        "id": "2LGwSN043BOc",
        "outputId": "56355d8b-0f61-4bf8-ea02-2714b2a2a837"
      },
      "execution_count": 39,
      "outputs": [
        {
          "output_type": "stream",
          "name": "stdout",
          "text": [
            "aabbbe -> This string is ACCEPTED\n",
            "aaaaebbb ->  Ths string is INVALID\n"
          ]
        }
      ]
    }
  ]
}